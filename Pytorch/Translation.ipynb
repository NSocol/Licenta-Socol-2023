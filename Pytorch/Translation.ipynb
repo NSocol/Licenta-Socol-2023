{
  "nbformat": 4,
  "nbformat_minor": 0,
  "metadata": {
    "colab": {
      "provenance": []
    },
    "kernelspec": {
      "name": "python3",
      "display_name": "Python 3"
    },
    "language_info": {
      "name": "python"
    }
  },
  "cells": [
    {
      "cell_type": "code",
      "execution_count": null,
      "metadata": {
        "id": "gBhtXjjFeXvg"
      },
      "outputs": [],
      "source": [
        "import numpy as np\n",
        "import csv\n",
        "from google.colab import drive\n",
        "from pathlib import Path\n",
        "import os"
      ]
    },
    {
      "cell_type": "code",
      "source": [
        "drive.mount('/content/drive')\n"
      ],
      "metadata": {
        "colab": {
          "base_uri": "https://localhost:8080/"
        },
        "id": "1iIb7EeEl7Oy",
        "outputId": "7f4b74d2-2938-4ebf-ddad-b071bf072770"
      },
      "execution_count": null,
      "outputs": [
        {
          "output_type": "stream",
          "name": "stdout",
          "text": [
            "Mounted at /content/drive\n"
          ]
        }
      ]
    },
    {
      "cell_type": "code",
      "source": [
        "data_path = Path('/content/drive/MyDrive/Colab Notebooks/data')\n",
        "folder_path=data_path/'licenta/Translation'\n",
        "csv_1=folder_path/'eee_0.csv'\n",
        "csv_2=folder_path/'eee_0_f.csv'\n",
        "csv_3=folder_path/'eee_1.csv'\n",
        "csv_4=folder_path/'eee_1_f.csv'\n",
        "csv_5=folder_path/'eee_2.csv'\n",
        "csv_6=folder_path/'eee_2_f.csv'\n",
        "csv_7=folder_path/'nya.csv'\n",
        "csv_8=folder_path/'nya_f.csv'"
      ],
      "metadata": {
        "id": "1-dHcvktmJdy"
      },
      "execution_count": null,
      "outputs": []
    },
    {
      "cell_type": "code",
      "source": [
        "r00=[]\n",
        "r01=[]\n",
        "r02=[]\n",
        "t0=[]\n",
        "r10=[]\n",
        "r11=[]\n",
        "r12=[]\n",
        "t1=[]\n",
        "r20=[]\n",
        "r21=[]\n",
        "r22=[]\n",
        "t2=[]\n",
        "with open(csv_7,'r',encoding='utf-8-sig') as file:\n",
        "  reader=csv.reader(file)\n",
        "  for(row) in reader:\n",
        "    r00.append(row[0])\n",
        "    r01.append(row[1])\n",
        "    r02.append(row[2])\n",
        "    t0.append(row[3])\n",
        "    r10.append(row[4])\n",
        "    r11.append(row[5])\n",
        "    r12.append(row[6])\n",
        "    t1.append(row[7])\n",
        "    r20.append(row[8])\n",
        "    r21.append(row[9])\n",
        "    r22.append(row[10])\n",
        "    t2.append(row[11])\n",
        "r00 = np.array(r00, dtype=np.float64)\n",
        "r01 = np.array(r01, dtype=np.float64)\n",
        "r02 = np.array(r02, dtype=np.float64)\n",
        "t0 = np.array(t0, dtype=np.float64)\n",
        "r10 = np.array(r10, dtype=np.float64)\n",
        "r11 = np.array(r11, dtype=np.float64)\n",
        "r12 = np.array(r12, dtype=np.float64)\n",
        "t1 = np.array(t1, dtype=np.float64)\n",
        "r20 = np.array(r20, dtype=np.float64)\n",
        "r21 = np.array(r21, dtype=np.float64)\n",
        "r22 = np.array(r22, dtype=np.float64)\n",
        "t2 = np.array(t2, dtype=np.float64)"
      ],
      "metadata": {
        "id": "yAYEWf4Tm_bb"
      },
      "execution_count": null,
      "outputs": []
    },
    {
      "cell_type": "code",
      "source": [],
      "metadata": {
        "id": "iLcfona1tcSr"
      },
      "execution_count": null,
      "outputs": []
    },
    {
      "cell_type": "code",
      "source": [
        "os.remove(csv_4)\n"
      ],
      "metadata": {
        "id": "LvSy2V-f5dId"
      },
      "execution_count": null,
      "outputs": []
    },
    {
      "cell_type": "code",
      "source": [
        "rng=len(r00)-1\n",
        "print(rng)"
      ],
      "metadata": {
        "colab": {
          "base_uri": "https://localhost:8080/"
        },
        "id": "o9gN9ZRe5pec",
        "outputId": "a16cc720-82fb-4300-e125-8c24d991e854"
      },
      "execution_count": null,
      "outputs": [
        {
          "output_type": "stream",
          "name": "stdout",
          "text": [
            "3946\n"
          ]
        }
      ]
    },
    {
      "cell_type": "code",
      "source": [
        "#os.remove(csv_4)\n",
        "rng=len(r00)-1\n",
        "for i in range(rng):\n",
        "  mat_N=np.array([[r00[i+1],r01[i+1],r02[i+1],t0[i+1]],[r10[i+1],r11[i+1],r12[i+1],t1[i+1]],[r20[i+1],r21[i+1],r22[i+1],t2[i+1]],[0,0,0,1]] ,dtype=np.float64)\n",
        "  mat_N_1=np.array([[r00[i],r01[i],r02[i],t0[i]],[r10[i],r11[i],r12[i],t1[i]],[r20[i],r21[i],r22[i],t2[i]],[0,0,0,1]],dtype=np.float64)\n",
        "  inv_mat_N_1=np.linalg.inv(mat_N_1)\n",
        "  mat_f=np.matmul(mat_N,inv_mat_N_1)\n",
        "  vec_f=mat_f.reshape(-1)\n",
        "\n",
        "\n",
        "  with open(csv_8, mode='a', newline='') as file:\n",
        "    writer = csv.writer(file)\n",
        "    writer.writerow([vec_f[0], vec_f[1], vec_f[2], vec_f[3], vec_f[4], vec_f[5], vec_f[6], vec_f[7], vec_f[8], vec_f[9], vec_f[10], vec_f[11]])\n",
        "\n",
        "\n",
        "\n",
        "\n"
      ],
      "metadata": {
        "id": "s-atw1e3pRpz"
      },
      "execution_count": null,
      "outputs": []
    },
    {
      "cell_type": "code",
      "source": [],
      "metadata": {
        "id": "0DQLKEMVkD-E"
      },
      "execution_count": null,
      "outputs": []
    },
    {
      "cell_type": "code",
      "source": [],
      "metadata": {
        "id": "FdLoJXYRmKj0"
      },
      "execution_count": null,
      "outputs": []
    }
  ]
}